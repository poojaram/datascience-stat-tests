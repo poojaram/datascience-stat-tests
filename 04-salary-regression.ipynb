{
 "cells": [
  {
   "cell_type": "markdown",
   "metadata": {},
   "source": [
    "# Does faculty salary vary by gender and/or rank? \n",
    "A linear modeling approach."
   ]
  },
  {
   "cell_type": "markdown",
   "metadata": {},
   "source": [
    "## Set up\n",
    "Let's begin by reading in some data from [this course website](http://data.princeton.edu/wws509/datasets/#salary). Columns included are:\n",
    "\n",
    "- **sx** = Sex, coded 1 for female and 0 for male\n",
    "- **rk** = Rank, coded\n",
    "    - 1 for assistant professor,\n",
    "    - 2 for associate professor, and\n",
    "    - 3 for full professor\n",
    "- **yr** = Number of years in current rank\n",
    "- **dg** = Highest degree, coded 1 if doctorate, 0 if masters\n",
    "- **yd** = Number of years since highest degree was earned\n",
    "- **sl** = Academic year salary, in dollars.\n",
    "\n",
    "Before performing the statistical analysis here, make sure you have completed `part-1.ipynb` to get to know your data."
   ]
  },
  {
   "cell_type": "code",
   "execution_count": 72,
   "metadata": {},
   "outputs": [],
   "source": [
    "# Set up\n",
    "import numpy as np\n",
    "import pandas as pd\n",
    "import seaborn as sns # for visualiation\n",
    "import urllib.request # to load data\n",
    "from scipy import stats # ANOVA\n",
    "from scipy.stats import ttest_ind # t-tests\n",
    "import statsmodels.formula.api as smf # linear modeling\n",
    "import altair as alt\n",
    "alt.renderers.enable('notebook') # enable altair rendering\n",
    "import matplotlib.pyplot as plt # plotting (optional)\n",
    "import numpy as np\n",
    "from numpy.polynomial.polynomial import polyfit\n",
    "%matplotlib inline "
   ]
  },
  {
   "cell_type": "code",
   "execution_count": 73,
   "metadata": {},
   "outputs": [],
   "source": [
    "# Read data from URL\n",
    "data = urllib.request.urlopen('http://data.princeton.edu/wws509/datasets/salary.dat')\n",
    "salary_data= pd.read_table(data, sep='\\s+')"
   ]
  },
  {
   "cell_type": "markdown",
   "metadata": {},
   "source": [
    "## Simple linear regression: what is the salary increase associated with each additional year in your current position (`yr`)?"
   ]
  },
  {
   "cell_type": "code",
   "execution_count": 74,
   "metadata": {},
   "outputs": [
    {
     "data": {
      "text/html": [
       "<table class=\"simpletable\">\n",
       "<caption>OLS Regression Results</caption>\n",
       "<tr>\n",
       "  <th>Dep. Variable:</th>           <td>sl</td>        <th>  R-squared:         </th> <td>   0.455</td>\n",
       "</tr>\n",
       "<tr>\n",
       "  <th>Model:</th>                   <td>OLS</td>       <th>  Adj. R-squared:    </th> <td>   0.445</td>\n",
       "</tr>\n",
       "<tr>\n",
       "  <th>Method:</th>             <td>Least Squares</td>  <th>  F-statistic:       </th> <td>   41.82</td>\n",
       "</tr>\n",
       "<tr>\n",
       "  <th>Date:</th>             <td>Fri, 01 Feb 2019</td> <th>  Prob (F-statistic):</th> <td>4.10e-08</td>\n",
       "</tr>\n",
       "<tr>\n",
       "  <th>Time:</th>                 <td>20:57:32</td>     <th>  Log-Likelihood:    </th> <td> -509.13</td>\n",
       "</tr>\n",
       "<tr>\n",
       "  <th>No. Observations:</th>      <td>    52</td>      <th>  AIC:               </th> <td>   1022.</td>\n",
       "</tr>\n",
       "<tr>\n",
       "  <th>Df Residuals:</th>          <td>    50</td>      <th>  BIC:               </th> <td>   1026.</td>\n",
       "</tr>\n",
       "<tr>\n",
       "  <th>Df Model:</th>              <td>     1</td>      <th>                     </th>     <td> </td>   \n",
       "</tr>\n",
       "<tr>\n",
       "  <th>Covariance Type:</th>      <td>nonrobust</td>    <th>                     </th>     <td> </td>   \n",
       "</tr>\n",
       "</table>\n",
       "<table class=\"simpletable\">\n",
       "<tr>\n",
       "      <td></td>         <th>coef</th>     <th>std err</th>      <th>t</th>      <th>P>|t|</th>  <th>[0.025</th>    <th>0.975]</th>  \n",
       "</tr>\n",
       "<tr>\n",
       "  <th>Intercept</th> <td>  1.75e+04</td> <td> 1149.700</td> <td>   15.223</td> <td> 0.000</td> <td> 1.52e+04</td> <td> 1.98e+04</td>\n",
       "</tr>\n",
       "<tr>\n",
       "  <th>yd</th>        <td>  390.6451</td> <td>   60.411</td> <td>    6.466</td> <td> 0.000</td> <td>  269.306</td> <td>  511.984</td>\n",
       "</tr>\n",
       "</table>\n",
       "<table class=\"simpletable\">\n",
       "<tr>\n",
       "  <th>Omnibus:</th>       <td> 0.572</td> <th>  Durbin-Watson:     </th> <td>   1.319</td>\n",
       "</tr>\n",
       "<tr>\n",
       "  <th>Prob(Omnibus):</th> <td> 0.751</td> <th>  Jarque-Bera (JB):  </th> <td>   0.237</td>\n",
       "</tr>\n",
       "<tr>\n",
       "  <th>Skew:</th>          <td> 0.160</td> <th>  Prob(JB):          </th> <td>   0.888</td>\n",
       "</tr>\n",
       "<tr>\n",
       "  <th>Kurtosis:</th>      <td> 3.081</td> <th>  Cond. No.          </th> <td>    35.8</td>\n",
       "</tr>\n",
       "</table><br/><br/>Warnings:<br/>[1] Standard Errors assume that the covariance matrix of the errors is correctly specified."
      ],
      "text/plain": [
       "<class 'statsmodels.iolib.summary.Summary'>\n",
       "\"\"\"\n",
       "                            OLS Regression Results                            \n",
       "==============================================================================\n",
       "Dep. Variable:                     sl   R-squared:                       0.455\n",
       "Model:                            OLS   Adj. R-squared:                  0.445\n",
       "Method:                 Least Squares   F-statistic:                     41.82\n",
       "Date:                Fri, 01 Feb 2019   Prob (F-statistic):           4.10e-08\n",
       "Time:                        20:57:32   Log-Likelihood:                -509.13\n",
       "No. Observations:                  52   AIC:                             1022.\n",
       "Df Residuals:                      50   BIC:                             1026.\n",
       "Df Model:                           1                                         \n",
       "Covariance Type:            nonrobust                                         \n",
       "==============================================================================\n",
       "                 coef    std err          t      P>|t|      [0.025      0.975]\n",
       "------------------------------------------------------------------------------\n",
       "Intercept    1.75e+04   1149.700     15.223      0.000    1.52e+04    1.98e+04\n",
       "yd           390.6451     60.411      6.466      0.000     269.306     511.984\n",
       "==============================================================================\n",
       "Omnibus:                        0.572   Durbin-Watson:                   1.319\n",
       "Prob(Omnibus):                  0.751   Jarque-Bera (JB):                0.237\n",
       "Skew:                           0.160   Prob(JB):                        0.888\n",
       "Kurtosis:                       3.081   Cond. No.                         35.8\n",
       "==============================================================================\n",
       "\n",
       "Warnings:\n",
       "[1] Standard Errors assume that the covariance matrix of the errors is correctly specified.\n",
       "\"\"\""
      ]
     },
     "execution_count": 74,
     "metadata": {},
     "output_type": "execute_result"
    }
   ],
   "source": [
    "# Create a simple linear model using `smf.ols()` that assesses the relationship between \n",
    "# years in current position (`yd`) with salary (`sl`).\n",
    "\n",
    "# Then, use the `.summary()` method of your model to print our information about your model\n",
    "lm = smf.ols(formula='sl ~ yd', data=salary_data).fit()\n",
    "lm.summary()"
   ]
  },
  {
   "cell_type": "markdown",
   "metadata": {},
   "source": [
    "**Assess the fit of your model**. In the space provided here, you should use clear and interpretable language to interpret your model. For example, you can use statements like, the beta value of *** indicates that each unit increase in *** is associated with an *** increase in *** ).\n",
    "\n",
    "Describe the _accuracy of your coefficient estimates_. In doing so, interpret the following: \n",
    "- **Coefficient** (beta) in your model:  the beta value of -11.6288 indicates that each unit increase in salary is associated with -11.6288 increase in the number of years in position.\n",
    "- **Standard errors** of your estimate: The standard error is 0.0012 which is small, hence the prediction is more accurate.\n",
    "- **Confidence intervals** around your coefficient: We are confident that the true mean of the beta value lies somewhere between the intevals (-20.504, -2.754) 95% of the time.\n",
    "\n",
    "Describe the _**accuracy** of your model_. In doing so, interpret the following:\n",
    "- **R-squared** value: R-squares has a value 0.455 and this means the model explains 45.5% of the variability of the response data around its mean."
   ]
  },
  {
   "cell_type": "code",
   "execution_count": 75,
   "metadata": {},
   "outputs": [
    {
     "data": {
      "text/html": [
       "<div>\n",
       "<style scoped>\n",
       "    .dataframe tbody tr th:only-of-type {\n",
       "        vertical-align: middle;\n",
       "    }\n",
       "\n",
       "    .dataframe tbody tr th {\n",
       "        vertical-align: top;\n",
       "    }\n",
       "\n",
       "    .dataframe thead th {\n",
       "        text-align: right;\n",
       "    }\n",
       "</style>\n",
       "<table border=\"1\" class=\"dataframe\">\n",
       "  <thead>\n",
       "    <tr style=\"text-align: right;\">\n",
       "      <th></th>\n",
       "      <th>sx</th>\n",
       "      <th>rk</th>\n",
       "      <th>yr</th>\n",
       "      <th>dg</th>\n",
       "      <th>yd</th>\n",
       "      <th>sl</th>\n",
       "      <th>predictions</th>\n",
       "    </tr>\n",
       "  </thead>\n",
       "  <tbody>\n",
       "    <tr>\n",
       "      <th>0</th>\n",
       "      <td>male</td>\n",
       "      <td>full</td>\n",
       "      <td>25</td>\n",
       "      <td>doctorate</td>\n",
       "      <td>35</td>\n",
       "      <td>36350</td>\n",
       "      <td>31174.836810</td>\n",
       "    </tr>\n",
       "    <tr>\n",
       "      <th>1</th>\n",
       "      <td>male</td>\n",
       "      <td>full</td>\n",
       "      <td>13</td>\n",
       "      <td>doctorate</td>\n",
       "      <td>22</td>\n",
       "      <td>35350</td>\n",
       "      <td>26096.450167</td>\n",
       "    </tr>\n",
       "    <tr>\n",
       "      <th>2</th>\n",
       "      <td>male</td>\n",
       "      <td>full</td>\n",
       "      <td>10</td>\n",
       "      <td>doctorate</td>\n",
       "      <td>23</td>\n",
       "      <td>28200</td>\n",
       "      <td>26487.095293</td>\n",
       "    </tr>\n",
       "    <tr>\n",
       "      <th>3</th>\n",
       "      <td>female</td>\n",
       "      <td>full</td>\n",
       "      <td>7</td>\n",
       "      <td>doctorate</td>\n",
       "      <td>27</td>\n",
       "      <td>26775</td>\n",
       "      <td>28049.675799</td>\n",
       "    </tr>\n",
       "    <tr>\n",
       "      <th>4</th>\n",
       "      <td>male</td>\n",
       "      <td>full</td>\n",
       "      <td>19</td>\n",
       "      <td>masters</td>\n",
       "      <td>30</td>\n",
       "      <td>33696</td>\n",
       "      <td>29221.611178</td>\n",
       "    </tr>\n",
       "  </tbody>\n",
       "</table>\n",
       "</div>"
      ],
      "text/plain": [
       "       sx    rk  yr         dg  yd     sl   predictions\n",
       "0    male  full  25  doctorate  35  36350  31174.836810\n",
       "1    male  full  13  doctorate  22  35350  26096.450167\n",
       "2    male  full  10  doctorate  23  28200  26487.095293\n",
       "3  female  full   7  doctorate  27  26775  28049.675799\n",
       "4    male  full  19    masters  30  33696  29221.611178"
      ]
     },
     "execution_count": 75,
     "metadata": {},
     "output_type": "execute_result"
    }
   ],
   "source": [
    "# Create a `predictions` column of your dataframe by \n",
    "# making predictions from your linear model. Hint: use the `.predict()` method of your model\n",
    "lmp = smf.ols(formula='sl ~ yd', data=salary_data).fit()\n",
    "salary_data[\"predictions\"]=lmp.predict()\n",
    "salary_data.head(5)"
   ]
  },
  {
   "cell_type": "code",
   "execution_count": 77,
   "metadata": {},
   "outputs": [
    {
     "data": {
      "image/png": "[encoded data removed]",
      "text/plain": [
       "<Figure size 432x288 with 1 Axes>"
      ]
     },
     "metadata": {
      "needs_background": "light"
     },
     "output_type": "display_data"
    }
   ],
   "source": [
    "# Draw a scatterplot comparing years in current rank (`yr` -- x axis) to salary (`sl` -- y axis).\n",
    "# Add to that scatterplot your \"best fit line\" that shows how well the model fits our data\n",
    "# (this line will have `yr` as the x axis, and your `predictions` on the y axis)\n",
    "x = salary_data.yr\n",
    "y = salary_data.sl\n",
    "plt.scatter(x, y)\n",
    "b, m = polyfit(x, salary_data.predictions, 1)\n",
    "#plt.plot(np.unique(x), np.poly1d(np.polyfit(x, y, 1))(np.unique(x)))\n",
    "plt.plot(x, y, \".\")\n",
    "plt.plot(x, b + m * x, \"-\")\n",
    "plt.title(\"Scatter plot\")\n",
    "plt.show()"
   ]
  },
  {
   "cell_type": "markdown",
   "metadata": {},
   "source": [
    "## Multiple Regression"
   ]
  },
  {
   "cell_type": "markdown",
   "metadata": {},
   "source": [
    "Now you will improve (well, likely improve) your model by predicing your outcome of interest (salary) using **multiple** independent variables"
   ]
  },
  {
   "cell_type": "code",
   "execution_count": 78,
   "metadata": {},
   "outputs": [
    {
     "data": {
      "text/html": [
       "<table class=\"simpletable\">\n",
       "<caption>OLS Regression Results</caption>\n",
       "<tr>\n",
       "  <th>Dep. Variable:</th>           <td>sl</td>        <th>  R-squared:         </th> <td>   0.846</td>\n",
       "</tr>\n",
       "<tr>\n",
       "  <th>Model:</th>                   <td>OLS</td>       <th>  Adj. R-squared:    </th> <td>   0.833</td>\n",
       "</tr>\n",
       "<tr>\n",
       "  <th>Method:</th>             <td>Least Squares</td>  <th>  F-statistic:       </th> <td>   64.64</td>\n",
       "</tr>\n",
       "<tr>\n",
       "  <th>Date:</th>             <td>Fri, 01 Feb 2019</td> <th>  Prob (F-statistic):</th> <td>1.64e-18</td>\n",
       "</tr>\n",
       "<tr>\n",
       "  <th>Time:</th>                 <td>20:57:51</td>     <th>  Log-Likelihood:    </th> <td> -476.26</td>\n",
       "</tr>\n",
       "<tr>\n",
       "  <th>No. Observations:</th>      <td>    52</td>      <th>  AIC:               </th> <td>   962.5</td>\n",
       "</tr>\n",
       "<tr>\n",
       "  <th>Df Residuals:</th>          <td>    47</td>      <th>  BIC:               </th> <td>   972.3</td>\n",
       "</tr>\n",
       "<tr>\n",
       "  <th>Df Model:</th>              <td>     4</td>      <th>                     </th>     <td> </td>   \n",
       "</tr>\n",
       "<tr>\n",
       "  <th>Covariance Type:</th>      <td>nonrobust</td>    <th>                     </th>     <td> </td>   \n",
       "</tr>\n",
       "</table>\n",
       "<table class=\"simpletable\">\n",
       "<tr>\n",
       "         <td></td>            <th>coef</th>     <th>std err</th>      <th>t</th>      <th>P>|t|</th>  <th>[0.025</th>    <th>0.975]</th>  \n",
       "</tr>\n",
       "<tr>\n",
       "  <th>Intercept</th>       <td> 1.643e+04</td> <td>  737.966</td> <td>   22.265</td> <td> 0.000</td> <td> 1.49e+04</td> <td> 1.79e+04</td>\n",
       "</tr>\n",
       "<tr>\n",
       "  <th>sx[T.male]</th>      <td> -524.1492</td> <td>  834.687</td> <td>   -0.628</td> <td> 0.533</td> <td>-2203.323</td> <td> 1155.024</td>\n",
       "</tr>\n",
       "<tr>\n",
       "  <th>rk[T.associate]</th> <td> 4373.9154</td> <td>  906.124</td> <td>    4.827</td> <td> 0.000</td> <td> 2551.030</td> <td> 6196.801</td>\n",
       "</tr>\n",
       "<tr>\n",
       "  <th>rk[T.full]</th>      <td> 9483.8419</td> <td>  912.795</td> <td>   10.390</td> <td> 0.000</td> <td> 7647.536</td> <td> 1.13e+04</td>\n",
       "</tr>\n",
       "<tr>\n",
       "  <th>yr</th>              <td>  390.9358</td> <td>   75.383</td> <td>    5.186</td> <td> 0.000</td> <td>  239.285</td> <td>  542.587</td>\n",
       "</tr>\n",
       "</table>\n",
       "<table class=\"simpletable\">\n",
       "<tr>\n",
       "  <th>Omnibus:</th>       <td>23.039</td> <th>  Durbin-Watson:     </th> <td>   1.832</td>\n",
       "</tr>\n",
       "<tr>\n",
       "  <th>Prob(Omnibus):</th> <td> 0.000</td> <th>  Jarque-Bera (JB):  </th> <td>  38.727</td>\n",
       "</tr>\n",
       "<tr>\n",
       "  <th>Skew:</th>          <td> 1.410</td> <th>  Prob(JB):          </th> <td>3.90e-09</td>\n",
       "</tr>\n",
       "<tr>\n",
       "  <th>Kurtosis:</th>      <td> 6.150</td> <th>  Cond. No.          </th> <td>    32.3</td>\n",
       "</tr>\n",
       "</table><br/><br/>Warnings:<br/>[1] Standard Errors assume that the covariance matrix of the errors is correctly specified."
      ],
      "text/plain": [
       "<class 'statsmodels.iolib.summary.Summary'>\n",
       "\"\"\"\n",
       "                            OLS Regression Results                            \n",
       "==============================================================================\n",
       "Dep. Variable:                     sl   R-squared:                       0.846\n",
       "Model:                            OLS   Adj. R-squared:                  0.833\n",
       "Method:                 Least Squares   F-statistic:                     64.64\n",
       "Date:                Fri, 01 Feb 2019   Prob (F-statistic):           1.64e-18\n",
       "Time:                        20:57:51   Log-Likelihood:                -476.26\n",
       "No. Observations:                  52   AIC:                             962.5\n",
       "Df Residuals:                      47   BIC:                             972.3\n",
       "Df Model:                           4                                         \n",
       "Covariance Type:            nonrobust                                         \n",
       "===================================================================================\n",
       "                      coef    std err          t      P>|t|      [0.025      0.975]\n",
       "-----------------------------------------------------------------------------------\n",
       "Intercept        1.643e+04    737.966     22.265      0.000    1.49e+04    1.79e+04\n",
       "sx[T.male]       -524.1492    834.687     -0.628      0.533   -2203.323    1155.024\n",
       "rk[T.associate]  4373.9154    906.124      4.827      0.000    2551.030    6196.801\n",
       "rk[T.full]       9483.8419    912.795     10.390      0.000    7647.536    1.13e+04\n",
       "yr                390.9358     75.383      5.186      0.000     239.285     542.587\n",
       "==============================================================================\n",
       "Omnibus:                       23.039   Durbin-Watson:                   1.832\n",
       "Prob(Omnibus):                  0.000   Jarque-Bera (JB):               38.727\n",
       "Skew:                           1.410   Prob(JB):                     3.90e-09\n",
       "Kurtosis:                       6.150   Cond. No.                         32.3\n",
       "==============================================================================\n",
       "\n",
       "Warnings:\n",
       "[1] Standard Errors assume that the covariance matrix of the errors is correctly specified.\n",
       "\"\"\""
      ]
     },
     "execution_count": 78,
     "metadata": {},
     "output_type": "execute_result"
    }
   ],
   "source": [
    "# Using multiple regression, create a linear model that uses \n",
    "# sex, rank, and years in current rank variables to estimate salary\n",
    "\n",
    "# Then, use the `.summary()` method of your model to print out information about the model.\n",
    "lmreg = smf.ols(formula='sl ~ sx + rk + yr', data=salary_data).fit()\n",
    "lmreg.summary()"
   ]
  },
  {
   "cell_type": "markdown",
   "metadata": {},
   "source": [
    "**Assess the fit of your model**. In the space provided here, you should use clear and interpretable language to interpret your model. For each independent variable, you should write out a sentence explaining the beta and confidence intervals. For example, \n",
    "\n",
    "> There was an observed association of BETA (LOWER_BOUND, UPPER_BOUND) salary increase for each unit increase in VARIABLE.\n"
   ]
  },
  {
   "cell_type": "markdown",
   "metadata": {},
   "source": [
    "Describe the _**accuracy** of your model_. In doing so, interpret the following:\n",
    "- **R-squared** value: R-squares has a value 0.846 and this means the model explains 84.6% of the variability of the response data around its mean."
   ]
  },
  {
   "cell_type": "markdown",
   "metadata": {
    "collapsed": true
   },
   "source": [
    "Write down at least one relationship in your model that you find surprising (i.e., would not have expected given your analysis up until this point)\n",
    "\n",
    "**Answer:**\n",
    "Somehow, these three predictiors have influence on the salary of a professor, for example predictors such as gender has an influence on their value."
   ]
  },
  {
   "cell_type": "code",
   "execution_count": 79,
   "metadata": {},
   "outputs": [],
   "source": [
    "# Create a `mult_preds` column of your dataframe by \n",
    "# making predictions from your new (multivariate) linear model. Hint: use the `.predict()` method of your model\n",
    "lmreg = smf.ols(formula='sl ~ sx + rk + yr', data=salary_data).fit()\n",
    "salary_data[\"mul_preds\"]=lmreg.predict()\n",
    "#salary_data"
   ]
  },
  {
   "cell_type": "code",
   "execution_count": 80,
   "metadata": {},
   "outputs": [
    {
     "data": {
      "image/png": "[encoded data removed]",
      "text/plain": [
       "<Figure size 432x288 with 1 Axes>"
      ]
     },
     "metadata": {
      "needs_background": "light"
     },
     "output_type": "display_data"
    }
   ],
   "source": [
    "# Visually compare these predictions (`mult_preds`) to those from your linear model (`predictions`) \n",
    "# by creating a scatterplot of the two variables\n",
    "fig = plt.figure()\n",
    "ax1 = fig.add_subplot(111)\n",
    "b2, m2 = polyfit(x, salary_data.mul_preds, 1)\n",
    "ax1.scatter(x, b + m*x, color=\"Red\", label=\"Simple\")\n",
    "ax1.scatter(x, b2 + m2*x, color=\"Blue\", label=\"Multiple\")\n",
    "ax1.legend()\n",
    "plt.show()"
   ]
  },
  {
   "cell_type": "markdown",
   "metadata": {},
   "source": [
    "Write down at least one relationship in this graph that you find notable.\n",
    "**Answer:**\n",
    "They both have 1 observation that is an extreme point or an outlier compared to rest of the data."
   ]
  },
  {
   "cell_type": "markdown",
   "metadata": {},
   "source": [
    "## Assessing prediction accuracy"
   ]
  },
  {
   "cell_type": "code",
   "execution_count": 85,
   "metadata": {},
   "outputs": [
    {
     "data": {
      "image/png": "[encoded data removed]",
      "text/plain": [
       "<Figure size 432x288 with 1 Axes>"
      ]
     },
     "metadata": {
      "needs_background": "light"
     },
     "output_type": "display_data"
    }
   ],
   "source": [
    "# Make a scatterplot that compares the actual salary data (`sl` -- x axis) \n",
    "# to the multivariate predictions (`mult_preds` -- y axis)\n",
    "# Add a line to this plot showing where the perfect prediction values would be \n",
    "# (i.e., a line whose x and y values are both the `sl` column)\n",
    "\n",
    "plt.scatter(salary_data.sl, salary_data.mul_preds)\n",
    "plt.plot(salary_data.sl, salary_data.sl, \"-\", color=\"Orange\")\n",
    "plt.xlabel(\"Actual Salary\")\n",
    "plt.ylabel(\"Predicted Salary\")\n",
    "plt.title(\"Salary Prediction\")\n",
    "plt.show()"
   ]
  },
  {
   "cell_type": "markdown",
   "metadata": {},
   "source": [
    "Using the r-squared values of each model -- univariate (`predictions`) and multivariate (`mult_preds`) -- describe \n",
    "which one explains more variance?\n",
    "\n",
    "**Answer:** \n",
    "R-squared value of the multiple regression is 0.846 where as for the simple regression it was 0.455, thus the multiple regression model describes the varaibility in the salary of the professors better than the simple linear regression model. This is because the 'R-squared' value shows what percentage of the variability in the true mean could be explained by the respective model.\n"
   ]
  },
  {
   "cell_type": "markdown",
   "metadata": {},
   "source": [
    "### Residual plots"
   ]
  },
  {
   "cell_type": "code",
   "execution_count": 91,
   "metadata": {},
   "outputs": [
    {
     "data": {
      "image/png": "[encoded data removed]",
      "text/plain": [
       "<Figure size 432x288 with 2 Axes>"
      ]
     },
     "metadata": {
      "needs_background": "light"
     },
     "output_type": "display_data"
    }
   ],
   "source": [
    "# For each model, plot the salary (`sl`) v.s. the *residuals* (difference between actual and predicted values)\n",
    "# Add a horizontal line at 0 to help interpret the graph\n",
    "# (I suggest rendering adjacent plots, though you are welcome to make them separately)\n",
    "salary_data[\"simple_res\"] = salary_data.sl - salary_data.predictions\n",
    "salary_data[\"multiple_res\"] = salary_data.sl - salary_data.mul_preds\n",
    "plt.subplot(1, 2, 1)\n",
    "plt.scatter(salary_data.sl, salary_data.simple_res, label = \"Simple\")\n",
    "plt.axhline(y=0, color='r', linestyle='-')\n",
    "plt.legend()\n",
    "plt.subplot(1, 2, 2)\n",
    "plt.scatter(salary_data.sl,salary_data.multiple_res, label = \"Multiple\")\n",
    "plt.axhline(y=0, color='r', linestyle='-')\n",
    "plt.legend()\n",
    "plt.show()"
   ]
  },
  {
   "cell_type": "markdown",
   "metadata": {
    "collapsed": true
   },
   "source": [
    "Write at least **one observation** based on the residual plots above. More specifically, describe how each each model systematically fits (or _fails_ to fit) the data\n",
    "**Answer:**\n",
    "The model is better representing the problem, if the residual plot is randomly distributed and if we cannot observe any patterns. Here, we see that the multiple regression model is better than the simple linear regression model because the scatter plot is more random and at lower values for the multiple regression residual plot."
   ]
  }
 ],
 "metadata": {
  "anaconda-cloud": {},
  "kernelspec": {
   "display_name": "Python 3",
   "language": "python",
   "name": "python3"
  },
  "language_info": {
   "codemirror_mode": {
    "name": "ipython",
    "version": 3
   },
   "file_extension": ".py",
   "mimetype": "text/x-python",
   "name": "python",
   "nbconvert_exporter": "python",
   "pygments_lexer": "ipython3",
   "version": "3.7.0"
  }
 },
 "nbformat": 4,
 "nbformat_minor": 1
}
