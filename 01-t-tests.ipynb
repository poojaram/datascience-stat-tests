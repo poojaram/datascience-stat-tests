{
 "cells": [
  {
   "cell_type": "markdown",
   "metadata": {},
   "source": [
    "# Part 1: Assess grade differences between male and female students in an Informatics course\n"
   ]
  },
  {
   "cell_type": "code",
   "execution_count": 114,
   "metadata": {},
   "outputs": [],
   "source": [
    "# Set up\n",
    "import pandas as pd\n",
    "import matplotlib.pyplot as plt\n",
    "import numpy as np\n",
    "from scipy import stats\n",
    "\n",
    "# Load data\n",
    "grades = pd.read_csv(\"./grades.csv\")"
   ]
  },
  {
   "cell_type": "markdown",
   "metadata": {},
   "source": [
    "## How many students are there of each sex?"
   ]
  },
  {
   "cell_type": "code",
   "execution_count": 115,
   "metadata": {},
   "outputs": [
    {
     "name": "stdout",
     "output_type": "stream",
     "text": [
      "There are 21 sfemale students and 17 male studnets\n"
     ]
    },
    {
     "data": {
      "text/html": [
       "<div>\n",
       "<style scoped>\n",
       "    .dataframe tbody tr th:only-of-type {\n",
       "        vertical-align: middle;\n",
       "    }\n",
       "\n",
       "    .dataframe tbody tr th {\n",
       "        vertical-align: top;\n",
       "    }\n",
       "\n",
       "    .dataframe thead th {\n",
       "        text-align: right;\n",
       "    }\n",
       "</style>\n",
       "<table border=\"1\" class=\"dataframe\">\n",
       "  <thead>\n",
       "    <tr style=\"text-align: right;\">\n",
       "      <th></th>\n",
       "      <th>student_number</th>\n",
       "      <th>a1</th>\n",
       "      <th>a2</th>\n",
       "      <th>a3</th>\n",
       "      <th>a4</th>\n",
       "      <th>a5</th>\n",
       "      <th>a6</th>\n",
       "      <th>a7</th>\n",
       "      <th>a8</th>\n",
       "      <th>participation</th>\n",
       "      <th>total</th>\n",
       "    </tr>\n",
       "    <tr>\n",
       "      <th>sex</th>\n",
       "      <th></th>\n",
       "      <th></th>\n",
       "      <th></th>\n",
       "      <th></th>\n",
       "      <th></th>\n",
       "      <th></th>\n",
       "      <th></th>\n",
       "      <th></th>\n",
       "      <th></th>\n",
       "      <th></th>\n",
       "      <th></th>\n",
       "    </tr>\n",
       "  </thead>\n",
       "  <tbody>\n",
       "    <tr>\n",
       "      <th>f</th>\n",
       "      <td>21</td>\n",
       "      <td>21</td>\n",
       "      <td>21</td>\n",
       "      <td>21</td>\n",
       "      <td>21</td>\n",
       "      <td>21</td>\n",
       "      <td>21</td>\n",
       "      <td>21</td>\n",
       "      <td>21</td>\n",
       "      <td>21</td>\n",
       "      <td>21</td>\n",
       "    </tr>\n",
       "    <tr>\n",
       "      <th>m</th>\n",
       "      <td>17</td>\n",
       "      <td>17</td>\n",
       "      <td>17</td>\n",
       "      <td>17</td>\n",
       "      <td>17</td>\n",
       "      <td>17</td>\n",
       "      <td>17</td>\n",
       "      <td>17</td>\n",
       "      <td>17</td>\n",
       "      <td>17</td>\n",
       "      <td>17</td>\n",
       "    </tr>\n",
       "  </tbody>\n",
       "</table>\n",
       "</div>"
      ],
      "text/plain": [
       "     student_number  a1  a2  a3  a4  a5  a6  a7  a8  participation  total\n",
       "sex                                                                      \n",
       "f                21  21  21  21  21  21  21  21  21             21     21\n",
       "m                17  17  17  17  17  17  17  17  17             17     17"
      ]
     },
     "execution_count": 115,
     "metadata": {},
     "output_type": "execute_result"
    }
   ],
   "source": [
    "print(\"There are \" + str(len(grades[grades.sex=='f'])) + \" sfemale students and \" + str(len(grades[grades.sex=='m'])) + \" male studnets\")\n",
    "grades.groupby(\"sex\").count()"
   ]
  },
  {
   "cell_type": "markdown",
   "metadata": {},
   "source": [
    "## Calculate averages for each assignment for each sex "
   ]
  },
  {
   "cell_type": "code",
   "execution_count": 116,
   "metadata": {},
   "outputs": [
    {
     "data": {
      "text/html": [
       "<div>\n",
       "<style scoped>\n",
       "    .dataframe tbody tr th:only-of-type {\n",
       "        vertical-align: middle;\n",
       "    }\n",
       "\n",
       "    .dataframe tbody tr th {\n",
       "        vertical-align: top;\n",
       "    }\n",
       "\n",
       "    .dataframe thead th {\n",
       "        text-align: right;\n",
       "    }\n",
       "</style>\n",
       "<table border=\"1\" class=\"dataframe\">\n",
       "  <thead>\n",
       "    <tr style=\"text-align: right;\">\n",
       "      <th></th>\n",
       "      <th>student_number</th>\n",
       "      <th>a1</th>\n",
       "      <th>a2</th>\n",
       "      <th>a3</th>\n",
       "      <th>a4</th>\n",
       "      <th>a5</th>\n",
       "      <th>a6</th>\n",
       "      <th>a7</th>\n",
       "      <th>a8</th>\n",
       "      <th>participation</th>\n",
       "      <th>total</th>\n",
       "    </tr>\n",
       "    <tr>\n",
       "      <th>sex</th>\n",
       "      <th></th>\n",
       "      <th></th>\n",
       "      <th></th>\n",
       "      <th></th>\n",
       "      <th></th>\n",
       "      <th></th>\n",
       "      <th></th>\n",
       "      <th></th>\n",
       "      <th></th>\n",
       "      <th></th>\n",
       "      <th></th>\n",
       "    </tr>\n",
       "  </thead>\n",
       "  <tbody>\n",
       "    <tr>\n",
       "      <th>f</th>\n",
       "      <td>18.666667</td>\n",
       "      <td>49.333333</td>\n",
       "      <td>93.190476</td>\n",
       "      <td>92.238095</td>\n",
       "      <td>133.095238</td>\n",
       "      <td>137.095238</td>\n",
       "      <td>46.761905</td>\n",
       "      <td>95.380952</td>\n",
       "      <td>92.52381</td>\n",
       "      <td>10.238095</td>\n",
       "      <td>92.655714</td>\n",
       "    </tr>\n",
       "    <tr>\n",
       "      <th>m</th>\n",
       "      <td>20.529412</td>\n",
       "      <td>48.529412</td>\n",
       "      <td>93.764706</td>\n",
       "      <td>96.647059</td>\n",
       "      <td>139.058824</td>\n",
       "      <td>133.411765</td>\n",
       "      <td>48.352941</td>\n",
       "      <td>98.117647</td>\n",
       "      <td>91.00000</td>\n",
       "      <td>8.705882</td>\n",
       "      <td>92.357647</td>\n",
       "    </tr>\n",
       "  </tbody>\n",
       "</table>\n",
       "</div>"
      ],
      "text/plain": [
       "     student_number         a1         a2         a3          a4          a5  \\\n",
       "sex                                                                            \n",
       "f         18.666667  49.333333  93.190476  92.238095  133.095238  137.095238   \n",
       "m         20.529412  48.529412  93.764706  96.647059  139.058824  133.411765   \n",
       "\n",
       "            a6         a7        a8  participation      total  \n",
       "sex                                                            \n",
       "f    46.761905  95.380952  92.52381      10.238095  92.655714  \n",
       "m    48.352941  98.117647  91.00000       8.705882  92.357647  "
      ]
     },
     "execution_count": 116,
     "metadata": {},
     "output_type": "execute_result"
    }
   ],
   "source": [
    "by_sex = grades.groupby(\"sex\").mean()\n",
    "by_sex\n"
   ]
  },
  {
   "cell_type": "markdown",
   "metadata": {},
   "source": [
    "## Create a scatter plot showing the average female score (x) v.s. male score (y)\n",
    "Add a 45 degree line to the graph."
   ]
  },
  {
   "cell_type": "code",
   "execution_count": 117,
   "metadata": {},
   "outputs": [
    {
     "data": {
      "text/plain": [
       "[<matplotlib.lines.Line2D at 0x1a1c946cc0>]"
      ]
     },
     "execution_count": 117,
     "metadata": {},
     "output_type": "execute_result"
    },
    {
     "data": {
      "image/png": "[encoded data removed]",
      "text/plain": [
       "<Figure size 432x288 with 1 Axes>"
      ]
     },
     "metadata": {
      "needs_background": "light"
     },
     "output_type": "display_data"
    }
   ],
   "source": [
    "x = by_sex.loc['f',:]\n",
    "y = by_sex.loc['m',:]\n",
    "plt.scatter(x, y, c=['blue','red'])\n",
    "plt.plot(x,x,'k-')\n"
   ]
  },
  {
   "cell_type": "markdown",
   "metadata": {},
   "source": [
    "## Perform a T test on the \"total\" grade."
   ]
  },
  {
   "cell_type": "code",
   "execution_count": 118,
   "metadata": {},
   "outputs": [
    {
     "data": {
      "text/plain": [
       "Ttest_indResult(statistic=0.19492497034940412, pvalue=0.8465476263000684)"
      ]
     },
     "execution_count": 118,
     "metadata": {},
     "output_type": "execute_result"
    }
   ],
   "source": [
    "female_tot = grades[grades.sex==\"f\"].total\n",
    "male_tot = grades[grades.sex==\"m\"].total\n",
    "\n",
    "stats.ttest_ind(female_tot, male_tot)"
   ]
  },
  {
   "cell_type": "markdown",
   "metadata": {},
   "source": [
    "Is there an observed and significant different by sex?\n",
    "\n",
    "**Answer:**\n",
    "No there is no observed and significant different by sex becasue the p-value is 0.8465 which is too high value to have statistical confidence."
   ]
  },
  {
   "cell_type": "markdown",
   "metadata": {},
   "source": [
    "## Now run a t-test on each assignment (feel free to use a loop)"
   ]
  },
  {
   "cell_type": "code",
   "execution_count": 119,
   "metadata": {},
   "outputs": [
    {
     "data": {
      "text/plain": [
       "[Ttest_indResult(statistic=1.1376008164819325, pvalue=0.2628022024404177),\n",
       " Ttest_indResult(statistic=-0.20645988932942244, pvalue=0.8375949550202038),\n",
       " Ttest_indResult(statistic=-1.9644208983837685, pvalue=0.05723714972234774),\n",
       " Ttest_indResult(statistic=-1.1222309733286793, pvalue=0.26919361006428205),\n",
       " Ttest_indResult(statistic=0.7694887702237516, pvalue=0.4466229638100365),\n",
       " Ttest_indResult(statistic=-0.7917668537263959, pvalue=0.4336828959854673),\n",
       " Ttest_indResult(statistic=-1.1280156775780423, pvalue=0.2667751621823319)]"
      ]
     },
     "execution_count": 119,
     "metadata": {},
     "output_type": "execute_result"
    }
   ],
   "source": [
    "female = grades[grades.sex=='f']\n",
    "male = grades[grades.sex=='m']\n",
    "\n",
    "p_values = []\n",
    "\n",
    "for i in range(7):\n",
    "    p_values.append(stats.ttest_ind(female.iloc[:,i+2], male.iloc[:,i+2]))\n",
    "\n",
    "p_values"
   ]
  },
  {
   "cell_type": "markdown",
   "metadata": {},
   "source": [
    "Were there any assignments with an observed difference in male and female grades?\n",
    "\n",
    "**Answer:**\n",
    "No, none of the assignments had a p-value that indicates 95% statistical significance. "
   ]
  },
  {
   "cell_type": "markdown",
   "metadata": {},
   "source": [
    "## Visualizing differences in performance"
   ]
  },
  {
   "cell_type": "markdown",
   "metadata": {},
   "source": [
    "For the assignment with the most significant difference in performance (which may or may not be statistically significant), create an overlapping histogram showing the distribution of male and female grades. \n",
    "Use these histograms to interpret why the differences were most noticable."
   ]
  },
  {
   "cell_type": "code",
   "execution_count": 120,
   "metadata": {},
   "outputs": [
    {
     "data": {
      "image/png": "[encoded data removed]",
      "text/plain": [
       "<Figure size 432x288 with 1 Axes>"
      ]
     },
     "metadata": {
      "needs_background": "light"
     },
     "output_type": "display_data"
    }
   ],
   "source": [
    "x_values = female.iloc[:,4]\n",
    "y_values = male.iloc[:,4]\n",
    "\n",
    "#bins = np.linspace(-10, 10, 100)\n",
    "\n",
    "plt.hist(x_values, alpha=0.5, label='female')\n",
    "plt.hist(y_values, alpha=0.5, label='male')\n",
    "plt.legend(loc='upper left')\n",
    "plt.xlabel(\"Scores\")\n",
    "plt.ylabel(\"Frequency\")\n",
    "plt.title(\"Distribution of male and female grades in assignment 3\")\n",
    "plt.show()"
   ]
  },
  {
   "cell_type": "markdown",
   "metadata": {},
   "source": [
    "## Comparing difficult of assignments"
   ]
  },
  {
   "cell_type": "markdown",
   "metadata": {},
   "source": [
    "We can use similar techniques to make comparisons across assignments (*not* by sex). \n",
    "\n",
    "\n",
    "As an example, use a t-test to answer the question, \"Was assignment 4 harder than assignment 5?\"\n",
    "Make sure to account for the fact that the data is *paired*.\n",
    "\n",
    "\n",
    "Create a graphic that supports this comparison."
   ]
  },
  {
   "cell_type": "code",
   "execution_count": 121,
   "metadata": {},
   "outputs": [
    {
     "name": "stdout",
     "output_type": "stream",
     "text": [
      "We cannot reject the null hypothesis that assignment 4 and 5 were equally difficult because the p-value is 0.919 and it is not statistically significant to reject null hypothesis.\n"
     ]
    }
   ],
   "source": [
    "assignment_4 = grades.iloc[:,5]\n",
    "assignment_5 = grades.iloc[:,6]\n",
    "p = stats.ttest_rel(assignment_4, assignment_5)\n",
    "\n",
    "print(\"We cannot reject the null hypothesis that assignment 4 and 5 were equally difficult because the p-value is 0.919 and it is not statistically significant to reject null hypothesis.\")"
   ]
  },
  {
   "cell_type": "code",
   "execution_count": 122,
   "metadata": {},
   "outputs": [
    {
     "data": {
      "image/png": "[encoded data removed]",
      "text/plain": [
       "<Figure size 432x288 with 1 Axes>"
      ]
     },
     "metadata": {
      "needs_background": "light"
     },
     "output_type": "display_data"
    }
   ],
   "source": [
    "grades[['a4', 'a5']].plot(kind='box')\n",
    "plt.savefig('boxplot.png')"
   ]
  },
  {
   "cell_type": "code",
   "execution_count": 123,
   "metadata": {},
   "outputs": [
    {
     "data": {
      "image/png": "[encoded data removed]",
      "text/plain": [
       "<Figure size 432x288 with 1 Axes>"
      ]
     },
     "metadata": {
      "needs_background": "light"
     },
     "output_type": "display_data"
    }
   ],
   "source": [
    "#plt.his(assignment_4, alpha=0.4, label=\"Assignment 4\")\n",
    "#plt.his(assignment_5, alpha=0.4, label=\"Assignment 5\")\n",
    "plt.scatter(assignment_4, assignment_5)\n",
    "plt.xlabel(\"Assignment 4\")\n",
    "plt.ylabel(\"Assignment 5\")\n",
    "plt.title(\"Assignment 4 vs 5\")\n",
    "plt.savefig('scatter.png')"
   ]
  },
  {
   "cell_type": "code",
   "execution_count": null,
   "metadata": {},
   "outputs": [],
   "source": []
  }
 ],
 "metadata": {
  "kernelspec": {
   "display_name": "Python 3",
   "language": "python",
   "name": "python3"
  },
  "language_info": {
   "codemirror_mode": {
    "name": "ipython",
    "version": 3
   },
   "file_extension": ".py",
   "mimetype": "text/x-python",
   "name": "python",
   "nbconvert_exporter": "python",
   "pygments_lexer": "ipython3",
   "version": "3.7.0"
  }
 },
 "nbformat": 4,
 "nbformat_minor": 1
}
